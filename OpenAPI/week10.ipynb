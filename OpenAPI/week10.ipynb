{
 "cells": [
  {
   "cell_type": "code",
   "execution_count": 1,
   "id": "c17fa387",
   "metadata": {},
   "outputs": [
    {
     "name": "stdout",
     "output_type": "stream",
     "text": [
      "Numbers? 10 456 87 78\n",
      "456\n"
     ]
    }
   ],
   "source": [
    "num = input(\"Numbers? \")\n",
    "token = num.split()\n",
    "idx = 0\n",
    "for i in range(0, len(token)):\n",
    "    if(int(token[idx]) < int(token[i])):\n",
    "        idx = i\n",
    "print(token[idx])"
   ]
  },
  {
   "cell_type": "code",
   "execution_count": 2,
   "id": "9f7349fc",
   "metadata": {},
   "outputs": [
    {
     "name": "stdout",
     "output_type": "stream",
     "text": [
      "암호화 (1) 복호화 (2) : 2\n",
      "문자열을 입력하세요: efg bcd\n",
      "abc def\n"
     ]
    }
   ],
   "source": [
    "choice = int(input(\"암호화 (1) 복호화 (2) : \"))\n",
    "code = input(\"문자열을 입력하세요: \")\n",
    "token = code.split()\n",
    "token.reverse()\n",
    "if(choice == 1):\n",
    "    for i in range(len(token)):\n",
    "        for j in range(len(token[i])):\n",
    "            temp = list(token[i])\n",
    "            temp[j] = chr(ord(temp[j]) + 1)\n",
    "            token[i] = \"\".join(temp)\n",
    "    print(\" \".join(token))\n",
    "elif(choice == 2):\n",
    "    for i in range(len(token)):\n",
    "        for j in range(len(token[i])):\n",
    "            temp = list(token[i])\n",
    "            temp[j] = chr(ord(temp[j]) - 1)\n",
    "            token[i] = \"\".join(temp)\n",
    "    print(\" \".join(token))"
   ]
  },
  {
   "cell_type": "code",
   "execution_count": 3,
   "id": "70138611",
   "metadata": {},
   "outputs": [
    {
     "name": "stdout",
     "output_type": "stream",
     "text": [
      "10명의 이름과 전화번호를 입력하세요\n",
      "EX) Jason 010-0000-0000\n",
      "이름과 전화번호 입력: asad 15615\n",
      "이름과 전화번호 입력: scac 55151\n",
      "이름과 전화번호 입력: xccac 66323\n",
      "이름과 전화번호 입력: fczxv 8956\n",
      "이름과 전화번호 입력: vbsvn 2663\n",
      "이름과 전화번호 입력: rbblx 816\n",
      "이름과 전화번호 입력: vnsivn 15611\n",
      "이름과 전화번호 입력: dnnsjnv 5151\n",
      "이름과 전화번호 입력: kcmm 15159\n",
      "이름과 전화번호 입력: cmzk 7422\n",
      "전화번호로 찾기(1) 이름으로 찾기(2) : 1\n",
      "전화번호를 입력하시오: 15611\n",
      "vnsivn\n"
     ]
    }
   ],
   "source": [
    "print(\"10명의 이름과 전화번호를 입력하세요\")\n",
    "print(\"EX) Jason 010-0000-0000\")\n",
    "telnum = {}\n",
    "for i in range(10):\n",
    "    info  =input(\"이름과 전화번호 입력: \")\n",
    "    token = info.split()\n",
    "    telnum[token[0]] = token[1]\n",
    "choice = int(input(\"전화번호로 찾기(1) 이름으로 찾기(2) : \"))\n",
    "if(choice == 1):\n",
    "    searchTel = input(\"전화번호를 입력하시오: \")\n",
    "    nums_list = telnum.values()\n",
    "    if(searchTel in nums_list):\n",
    "        for name, ph in telnum.items():\n",
    "            if(ph == searchTel):\n",
    "                print(name)\n",
    "                break\n",
    "    else:\n",
    "        print(\"등록되지 않은 전화번호입니다.\")\n",
    "elif(choice == 2):\n",
    "    searchName = input(\"이름을 입력하세요: \")\n",
    "    if(searchName in telnum):\n",
    "        print(telnum.get(searchName))\n",
    "    else:\n",
    "        print(\"등록되지 않은 이름입니다.\")"
   ]
  }
 ],
 "metadata": {
  "kernelspec": {
   "display_name": "Python 3",
   "language": "python",
   "name": "python3"
  },
  "language_info": {
   "codemirror_mode": {
    "name": "ipython",
    "version": 3
   },
   "file_extension": ".py",
   "mimetype": "text/x-python",
   "name": "python",
   "nbconvert_exporter": "python",
   "pygments_lexer": "ipython3",
   "version": "3.9.4"
  }
 },
 "nbformat": 4,
 "nbformat_minor": 5
}
