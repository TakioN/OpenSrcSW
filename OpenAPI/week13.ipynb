{
 "cells": [
  {
   "cell_type": "code",
   "execution_count": null,
   "id": "32485a91",
   "metadata": {},
   "outputs": [],
   "source": [
    "import matplotlib.pyplot as plt\n",
    "import csv\n",
    "\n",
    "f = open(\"seoul.csv\")\n",
    "data = csv.reader(f)\n",
    "next(data)\n",
    "\n",
    "highest = []\n",
    "lowest = []\n",
    "for row in data:\n",
    "    if(len(row) == 0):\n",
    "        break\n",
    "    if(row[-1] != ''):\n",
    "        if(row[0].split('-')[1] == \"07\"and row[0].split('-')[2] == \"24\"):\n",
    "            highest.append(float(row[-1]))\n",
    "    if(row[-2] != ''):\n",
    "        if(row[0].split('-')[1] == \"07\"and row[0].split('-')[2] == \"24\"):\n",
    "            lowest.append(float(row[-2]))\n",
    "\n",
    "plt.plot(highest, \"hotpink\")\n",
    "plt.plot(lowest, \"skyblue\")\n",
    "plt.show()"
   ]
  },
  {
   "cell_type": "code",
   "execution_count": null,
   "id": "10cf4bf8",
   "metadata": {},
   "outputs": [],
   "source": [
    "import csv\n",
    "import matplotlib.pyplot as plt\n",
    "\n",
    "f = open(\"seoul.csv\")\n",
    "data = csv.reader(f)\n",
    "next(data)\n",
    "\n",
    "jan = []\n",
    "aug = []\n",
    "for row in data:\n",
    "    if(len(row) == 0):\n",
    "        break\n",
    "    month = row[0].split('-')[1]\n",
    "    if(row[-1] != ''):\n",
    "        if(month == \"01\"):\n",
    "            jan.append(float(row[-1]))\n",
    "        elif(month == \"08\"):\n",
    "            aug.append(float(row[-1]))\n",
    "\n",
    "plt.hist(aug, bins=100, color=\"r\", label=\"Aug\")\n",
    "plt.hist(jan, bins=100, color=\"b\", label=\"Jan\")\n",
    "plt.legend()\n",
    "plt.show()"
   ]
  }
 ],
 "metadata": {
  "kernelspec": {
   "display_name": "Python 3",
   "language": "python",
   "name": "python3"
  },
  "language_info": {
   "codemirror_mode": {
    "name": "ipython",
    "version": 3
   },
   "file_extension": ".py",
   "mimetype": "text/x-python",
   "name": "python",
   "nbconvert_exporter": "python",
   "pygments_lexer": "ipython3",
   "version": "3.8.8"
  }
 },
 "nbformat": 4,
 "nbformat_minor": 5
}
