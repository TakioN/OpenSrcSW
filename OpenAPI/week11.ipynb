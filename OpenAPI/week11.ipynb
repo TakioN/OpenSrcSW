{
 "cells": [
  {
   "cell_type": "code",
   "execution_count": null,
   "id": "5ccd5ecd",
   "metadata": {},
   "outputs": [],
   "source": [
    "import sys\n",
    "\n",
    "readFile = open(sys.argv[1], 'r')\n",
    "writeFile = open(sys.argv[2], 'w')\n",
    "data = readFile.read()\n",
    "writeFile.write(data)\n",
    "\n",
    "readFile.close()\n",
    "writeFile.close()"
   ]
  },
  {
   "cell_type": "code",
   "execution_count": 5,
   "id": "abd9fd7e",
   "metadata": {},
   "outputs": [
    {
     "ename": "FileNotFoundError",
     "evalue": "[Errno 2] No such file or directory: '-f'",
     "output_type": "error",
     "traceback": [
      "\u001b[1;31m---------------------------------------------------------------------------\u001b[0m",
      "\u001b[1;31mFileNotFoundError\u001b[0m                         Traceback (most recent call last)",
      "\u001b[1;32m<ipython-input-5-61398738ecdd>\u001b[0m in \u001b[0;36m<module>\u001b[1;34m\u001b[0m\n\u001b[0;32m      3\u001b[0m \u001b[0mlineCount\u001b[0m \u001b[1;33m=\u001b[0m \u001b[1;36m0\u001b[0m\u001b[1;33m\u001b[0m\u001b[1;33m\u001b[0m\u001b[0m\n\u001b[0;32m      4\u001b[0m \u001b[0mwordCount\u001b[0m \u001b[1;33m=\u001b[0m \u001b[1;36m0\u001b[0m\u001b[1;33m\u001b[0m\u001b[1;33m\u001b[0m\u001b[0m\n\u001b[1;32m----> 5\u001b[1;33m \u001b[0mf\u001b[0m \u001b[1;33m=\u001b[0m \u001b[0mopen\u001b[0m\u001b[1;33m(\u001b[0m\u001b[0msys\u001b[0m\u001b[1;33m.\u001b[0m\u001b[0margv\u001b[0m\u001b[1;33m[\u001b[0m\u001b[1;36m1\u001b[0m\u001b[1;33m]\u001b[0m\u001b[1;33m,\u001b[0m \u001b[1;34m'r'\u001b[0m\u001b[1;33m)\u001b[0m\u001b[1;33m\u001b[0m\u001b[1;33m\u001b[0m\u001b[0m\n\u001b[0m\u001b[0;32m      6\u001b[0m \u001b[1;32mwhile\u001b[0m \u001b[1;36m1\u001b[0m\u001b[1;33m:\u001b[0m\u001b[1;33m\u001b[0m\u001b[1;33m\u001b[0m\u001b[0m\n\u001b[0;32m      7\u001b[0m     \u001b[0mline\u001b[0m \u001b[1;33m=\u001b[0m \u001b[0mf\u001b[0m\u001b[1;33m.\u001b[0m\u001b[0mreadline\u001b[0m\u001b[1;33m(\u001b[0m\u001b[1;33m)\u001b[0m\u001b[1;33m\u001b[0m\u001b[1;33m\u001b[0m\u001b[0m\n",
      "\u001b[1;31mFileNotFoundError\u001b[0m: [Errno 2] No such file or directory: '-f'"
     ]
    }
   ],
   "source": [
    "import sys\n",
    "\n",
    "lineCount = 0\n",
    "wordCount = 0\n",
    "f = open(sys.argv[1], 'r')\n",
    "while 1:\n",
    "    line = f.readline()\n",
    "    if not line: break\n",
    "    lineCount += 1\n",
    "    token = line.split()\n",
    "    wordCount += len(token)\n",
    "print(\"{0:d}줄, {1:d}단어\" .format(lineCount, wordCount))\n",
    "f.close()"
   ]
  },
  {
   "cell_type": "code",
   "execution_count": 4,
   "id": "a554d248",
   "metadata": {},
   "outputs": [
    {
     "name": "stdout",
     "output_type": "stream",
     "text": [
      "1 + 2 = 3 입니다.\n",
      "5 - 1 = 4 입니다.\n",
      "2 * 3 = 6 입니다.\n",
      "6 / 2 = 3.0 입니다.\n"
     ]
    }
   ],
   "source": [
    "# _*_ coding: cp949 _*_\n",
    "class Calc:\n",
    "    def sum(self, a, b):\n",
    "        result = a + b\n",
    "        print(\"{0:d} + {1:d} = {2:d} 입니다.\" .format(a, b, result))\n",
    "    def sub(self, a, b):\n",
    "        result = a - b\n",
    "        print(\"{0:d} - {1:d} = {2:d} 입니다.\" .format(a, b, result))\n",
    "    def multi(self, a, b):\n",
    "        result = a * b\n",
    "        print(\"{0:d} * {1:d} = {2:d} 입니다.\" .format(a, b, result))\n",
    "    def divi(self, a, b):\n",
    "        result = a / b\n",
    "        print(\"{0:d} / {1:d} = {2:.1f} 입니다.\" .format(a, b, result))\n",
    "        \n",
    "calc = Calc()\n",
    "calc.sum(1, 2)\n",
    "calc.sub(5, 1)\n",
    "calc.multi(2, 3)\n",
    "calc.divi(6, 2)"
   ]
  },
  {
   "cell_type": "code",
   "execution_count": 1,
   "id": "8c356c7b",
   "metadata": {},
   "outputs": [
    {
     "name": "stdout",
     "output_type": "stream",
     "text": [
      "수식을 입력하세요 : 1 + 2 - 3 * 4 + 5\n",
      "1+2-3*4+5 = -4\n"
     ]
    }
   ],
   "source": [
    "# _*_ coding: cp949 _*_\n",
    "\n",
    "#stack class 구현\n",
    "class Stack:\n",
    "    topidx = -1\n",
    "    \n",
    "    def __init__(self):\n",
    "        self.st = []\n",
    "    def push(self, a):\n",
    "        self.topidx += 1\n",
    "        self.st.append(a)\n",
    "    def pop(self):\n",
    "        if(len(self.st) == 0):\n",
    "            return None\n",
    "        else:\n",
    "            self.topidx -= 1\n",
    "            return self.st.pop()\n",
    "    def top(self):\n",
    "        if(len(self.st) == 0):\n",
    "            return None\n",
    "        else:\n",
    "            return self.st[self.topidx]\n",
    "    def isEmpty(self):\n",
    "        return (len(self.st) == 0)\n",
    "\n",
    "#계산 함수 'calc'\n",
    "def calc(a, b, op):\n",
    "    if(op == '+'): return a + b\n",
    "    elif(op == '-'): return b - a\n",
    "    elif(op == '*'): return a * b\n",
    "    elif(op == '/'): return b / a\n",
    "\n",
    "#main 함수\n",
    "str = input(\"수식을 입력하세요 : \")\n",
    "numstack = Stack()\n",
    "opstack = Stack()\n",
    "token = str.split()\n",
    "for ch in token:\n",
    "    if(ch == '*' or ch == '/'):\n",
    "        if(opstack.top() == '*' or opstack.top() == '/'):\n",
    "            tempop = opstack.pop()\n",
    "            tempnum = calc(numstack.pop(), numstack.pop(), tempop)\n",
    "            numstack.push(tempnum)\n",
    "            opstack.push(ch)\n",
    "        else:\n",
    "            opstack.push(ch)\n",
    "    elif(ch == '+' or ch == '-'):\n",
    "        if(opstack.isEmpty() or opstack.top() == '('):\n",
    "            opstack.push(ch)\n",
    "        else:\n",
    "            while(not(opstack.isEmpty() or opstack.top() == '(')):\n",
    "                tempop = opstack.pop()\n",
    "                tempnum = calc(numstack.pop(), numstack.pop(), tempop)\n",
    "                numstack.push(tempnum)\n",
    "            opstack.push(ch)\n",
    "    elif(ch == '('):\n",
    "        opstack.push(ch)\n",
    "    elif(ch == ')'):\n",
    "        while(1):\n",
    "            tempop = opstack.pop()\n",
    "            if(tempop == '('):\n",
    "                break\n",
    "            else:\n",
    "                tempnum = calc(numstack.pop(), numstack.pop(), tempop)\n",
    "                numstack.push(tempnum)\n",
    "    else:\n",
    "        numstack.push(int(ch))\n",
    "        \n",
    "if(not(opstack.isEmpty())):\n",
    "    tempop = opstack.pop()\n",
    "    tempnum = calc(numstack.pop(), numstack.pop(), tempop)\n",
    "    numstack.push(tempnum)\n",
    "    \n",
    "print(\"{0:s} = {1:d}\" .format(\"\".join(token), numstack.pop()))"
   ]
  }
 ],
 "metadata": {
  "kernelspec": {
   "display_name": "Python 3",
   "language": "python",
   "name": "python3"
  },
  "language_info": {
   "codemirror_mode": {
    "name": "ipython",
    "version": 3
   },
   "file_extension": ".py",
   "mimetype": "text/x-python",
   "name": "python",
   "nbconvert_exporter": "python",
   "pygments_lexer": "ipython3",
   "version": "3.9.4"
  }
 },
 "nbformat": 4,
 "nbformat_minor": 5
}
